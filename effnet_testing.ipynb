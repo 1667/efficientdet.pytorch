{
 "cells": [
  {
   "cell_type": "markdown",
   "metadata": {},
   "source": [
    "# Test EfficientDet model and BiFPNs"
   ]
  },
  {
   "cell_type": "code",
   "execution_count": 1,
   "metadata": {},
   "outputs": [],
   "source": [
    "from efficientnet_pytorch import EfficientNet\n",
    "import torch.nn as nn\n",
    "import torch\n",
    "import torch.nn.functional as F\n",
    "from utils.ssd_model import DBox, Detect"
   ]
  },
  {
   "cell_type": "code",
   "execution_count": 2,
   "metadata": {},
   "outputs": [],
   "source": [
    "def make_loc_conf(num_classes=21, bbox_aspect_num=[4, 6, 6, 6, 4, 4]):\n",
    "    loc_layers = []\n",
    "    conf_layers = []\n",
    "\n",
    "    # VGGの22層目、conv4_3（source1）に対する畳み込み層\n",
    "    loc_layers += [nn.Conv2d(256, bbox_aspect_num[0]\n",
    "                             * 4, kernel_size=3, padding=1)]\n",
    "    conf_layers += [nn.Conv2d(256, bbox_aspect_num[0]\n",
    "                              * num_classes, kernel_size=3, padding=1)]\n",
    "\n",
    "    # VGGの最終層（source2）に対する畳み込み層\n",
    "    loc_layers += [nn.Conv2d(256, bbox_aspect_num[1]\n",
    "                             * 4, kernel_size=3, padding=1)]\n",
    "    conf_layers += [nn.Conv2d(256, bbox_aspect_num[1]\n",
    "                              * num_classes, kernel_size=3, padding=1)]\n",
    "\n",
    "    # extraの（source3）に対する畳み込み層\n",
    "    loc_layers += [nn.Conv2d(256, bbox_aspect_num[2]\n",
    "                             * 4, kernel_size=3, padding=1)]\n",
    "    conf_layers += [nn.Conv2d(256, bbox_aspect_num[2]\n",
    "                              * num_classes, kernel_size=3, padding=1)]\n",
    "\n",
    "    # extraの（source4）に対する畳み込み層\n",
    "    loc_layers += [nn.Conv2d(256, bbox_aspect_num[3]\n",
    "                             * 4, kernel_size=3, padding=1)]\n",
    "    conf_layers += [nn.Conv2d(256, bbox_aspect_num[3]\n",
    "                              * num_classes, kernel_size=3, padding=1)]\n",
    "\n",
    "    # extraの（source5）に対する畳み込み層\n",
    "    loc_layers += [nn.Conv2d(256, bbox_aspect_num[4]\n",
    "                             * 4, kernel_size=3, padding=1)]\n",
    "    conf_layers += [nn.Conv2d(256, bbox_aspect_num[4]\n",
    "                              * num_classes, kernel_size=3, padding=1)]\n",
    "\n",
    "    # extraの（source6）に対する畳み込み層\n",
    "    loc_layers += [nn.Conv2d(256, bbox_aspect_num[5]\n",
    "                             * 4, kernel_size=3, padding=1)]\n",
    "    conf_layers += [nn.Conv2d(256, bbox_aspect_num[5]\n",
    "                              * num_classes, kernel_size=3, padding=1)]\n",
    "    return nn.ModuleList(loc_layers), nn.ModuleList(conf_layers)"
   ]
  },
  {
   "cell_type": "code",
   "execution_count": 3,
   "metadata": {},
   "outputs": [],
   "source": [
    "class BiFPN(nn.Module):\n",
    "    def __init__(self,\n",
    "                num_channels):\n",
    "        super(BiFPN, self).__init__()\n",
    "        self.num_channels = num_channels\n",
    "\n",
    "    def forward(self, inputs):\n",
    "        num_channels = self.num_channels\n",
    "        P3_in, P4_in, P5_in, P6_in, P7_in = inputs\n",
    "        for input in inputs:\n",
    "            print(input.size())\n",
    "\n",
    "        P7_up = self.Conv(in_channels=num_channels, out_channels=num_channels, kernel_size=1, stride=1, padding=0, groups=num_channels)(P7_in)\n",
    "        scale = (P6_in.size(3)/P7_up.size(3))\n",
    "        \n",
    "        P6_up = self.Conv(in_channels=num_channels, out_channels=num_channels, kernel_size=1, stride=1, padding=0, groups=num_channels)(P6_in+self.Resize(scale_factor=scale)(P7_up))\n",
    "        scale = (P5_in.size(3)/P6_up.size(3))\n",
    "        P5_up = self.Conv(in_channels=num_channels, out_channels=num_channels, kernel_size=1, stride=1, padding=0, groups=num_channels)(P5_in+self.Resize(scale_factor=scale)(P6_up))\n",
    "        scale = (P4_in.size(3)/P5_up.size(3))\n",
    "        P4_up = self.Conv(in_channels=num_channels, out_channels=num_channels, kernel_size=1, stride=1, padding=0)(P4_in+self.Resize(scale_factor=scale)(P5_up))\n",
    "        scale = (P3_in.size(3)/P4_up.size(3))\n",
    "        P3_out = self.Conv(in_channels=num_channels, out_channels=num_channels, kernel_size=1, stride=1, padding=0)(P3_in+self.Resize(scale_factor=scale)(P4_up))\n",
    "\n",
    "        # downsample by interpolation\n",
    "        #print(\"P6_up scale\",scale)\n",
    "        P4_out = self.Conv(in_channels=num_channels, out_channels=num_channels, kernel_size=1, stride=1, padding=0, groups=num_channels)(P4_in + P4_up+F.interpolate(P3_out, P4_up.size()[2:]))\n",
    "        P5_out = self.Conv(in_channels=num_channels, out_channels=num_channels, kernel_size=1, stride=1, padding=0, groups=num_channels)(P5_in + P5_up+F.interpolate(P4_out, P5_up.size()[2:]))\n",
    "        P6_out = self.Conv(in_channels=num_channels, out_channels=num_channels, kernel_size=1, stride=1, padding=0, groups=num_channels)(P6_in + P6_up+F.interpolate(P5_out, P6_up.size()[2:]))\n",
    "        P7_out = self.Conv(in_channels=num_channels, out_channels=num_channels, kernel_size=1, stride=1, padding=0, groups=num_channels)(P7_in + P7_up+F.interpolate(P6_out, P7_up.size()[2:]))\n",
    "        return P3_out, P4_out, P5_out, P6_out, P7_out\n",
    "\n",
    "    @staticmethod\n",
    "    def Conv(in_channels, out_channels, kernel_size, stride, padding, groups = 1):\n",
    "        features = nn.Sequential(\n",
    "            nn.Conv2d(in_channels=in_channels, out_channels=out_channels, kernel_size=kernel_size, stride=stride, padding=padding, groups=groups),\n",
    "            nn.BatchNorm2d(num_features=out_channels),\n",
    "            nn.ReLU()\n",
    "        )\n",
    "        return features \n",
    "    @staticmethod\n",
    "    def Resize(scale_factor=2, mode='bilinear'):\n",
    "        upsample = nn.Upsample(scale_factor=scale_factor, mode=mode)\n",
    "        return upsample"
   ]
  },
  {
   "cell_type": "code",
   "execution_count": 4,
   "metadata": {},
   "outputs": [],
   "source": [
    "class EfficientDet(nn.Module):\n",
    "    def __init__(self, phase, cfg, verbose=False, backbone=\"efficientnet-b0\", useBiFPN=True):\n",
    "        super(EfficientDet, self).__init__()\n",
    "        # meta-stuff\n",
    "        self.phase = phase\n",
    "        self.num_classes = cfg[\"num_classes\"]\n",
    "        self.verbose=verbose\n",
    "        # make Dbox\n",
    "        dbox = DBox(cfg)\n",
    "        self.device = torch.device(\"cuda:0\" if torch.cuda.is_available() else \"cpu\")\n",
    "        self.dbox_list = dbox.make_dbox_list()        \n",
    "        # use Detect if inference\n",
    "        if phase == \"inference\":\n",
    "            self.detect = Detect()\n",
    "        ratio = 1\n",
    "        \n",
    "        # define backbone\n",
    "        model = EfficientNet.from_pretrained(backbone)\n",
    "        self.layer0 = nn.Sequential(model._conv_stem, model._bn0)\n",
    "        self.layer2 = nn.Sequential(model._blocks[0],model._blocks[1],model._blocks[2],model._blocks[3])\n",
    "        self.layer3 = nn.Sequential(model._blocks[4],model._blocks[5])\n",
    "        self.layer4 = nn.Sequential(model._blocks[6],model._blocks[7],model._blocks[8],model._blocks[9],model._blocks[10],model._blocks[11])\n",
    "        self.layer5 = nn.Sequential(model._blocks[12],model._blocks[13],model._blocks[14],model._blocks[15])\n",
    "        # Bottom-up layers\n",
    "        #self.conv5 = nn.Conv2d( 320, 256, kernel_size=1, stride=1, padding=0)\n",
    "        self.conv6 = nn.Conv2d( 320, 256, kernel_size=3, stride=2, padding=1)\n",
    "        self.conv7 = nn.Conv2d( 256, 256, kernel_size=3, stride=2, padding=1)\n",
    "        self.conv8 = nn.Conv2d( 256, 256, kernel_size=3, stride=1, padding=0)\n",
    "        # Top layer\n",
    "        self.toplayer = nn.Conv2d(320, 256, kernel_size=1, stride=1, padding=0)  # Reduce channels\n",
    "        # Smooth layers\n",
    "        self.smooth1 = nn.Conv2d(256, 256, kernel_size=3, stride=1, padding=1)\n",
    "        self.smooth2 = nn.Conv2d(256, 256, kernel_size=3, stride=1, padding=1)        \n",
    "        # Lateral layers\n",
    "        self.latlayer1 = nn.Conv2d( 80, 256, kernel_size=1, stride=1, padding=0)\n",
    "        self.latlayer2 = nn.Conv2d( 40, 256, kernel_size=1, stride=1, padding=0)\n",
    "        # loc, conf layers\n",
    "        self.loc, self.conf = make_loc_conf(self.num_classes, cfg[\"bbox_aspect_num\"])\n",
    "        # FPNs\n",
    "        self.usebifpn=useBiFPN\n",
    "        if BiFPN:\n",
    "            self.BiFPN=BiFPN(256)\n",
    "        \n",
    "    def forward(self, x):\n",
    "        # efficientnet layers\n",
    "        x = self.layer0(x)\n",
    "        p3 = self.layer2(x) # 37x37       \n",
    "        p4 = self.layer3(p3) # 18x18       \n",
    "        p5 = self.layer4(p4)\n",
    "        p5 = self.layer5(p5)\n",
    "        \n",
    "        if self.verbose:\n",
    "            print(\"layerc3:\", p3.size())\n",
    "            print(\"layerc4:\", p4.size())\n",
    "            print(\"layerc5:\", p5.size())\n",
    "            \n",
    "        # non-efficientnet layers\n",
    "        p6 = self.conv6(p5) # 5x5\n",
    "        p7 = self.conv7(F.relu(p6)) # 3x3\n",
    "        p8 = self.conv8(F.relu(p7)) # 1x1\n",
    "        \n",
    "        # TODO: implement BiFPN\n",
    "        if not self.usebifpn:\n",
    "            # Top-down\n",
    "            p5 = self.toplayer(p5) # 10x10\n",
    "            p4 = self._upsample_add(p5, self.latlayer1(p4)) # 19x19\n",
    "            p3 = self._upsample_add(p4, self.latlayer2(p3)) # 38x38\n",
    "            # Smooth\n",
    "            p4 = self.smooth1(p4)\n",
    "            p3 = self.smooth2(p3)\n",
    "\n",
    "            # make loc and confs.\n",
    "            sources = [p3, p4, p5, p6, p7, p8]\n",
    "        else:\n",
    "            # BiFPNs\n",
    "            # Top-down\n",
    "            p5 = self.toplayer(p5) # 10x10\n",
    "            p4 = self._upsample_add(p5, self.latlayer1(p4)) # 19x19\n",
    "            p3 = self._upsample_add(p4, self.latlayer2(p3)) # 38x38\n",
    "            sources = [p3, p4, p5, p6, p7]\n",
    "            sources = self.BiFPN(sources)\n",
    "        \n",
    "        # look at source size\n",
    "        if self.verbose:\n",
    "            for source in sources:\n",
    "                print(\"layer size:\", source.size())\n",
    "        \n",
    "        # make lists\n",
    "        loc = list()\n",
    "        conf = list()        \n",
    "        for (x, l, c) in zip(sources, self.loc, self.conf):\n",
    "            # Permuteは要素の順番を入れ替え\n",
    "            loc.append(l(x).permute(0, 2, 3, 1).contiguous())\n",
    "            conf.append(c(x).permute(0, 2, 3, 1).contiguous())\n",
    "        \n",
    "        # locとconfの形を変形\n",
    "        # locのサイズは、torch.Size([batch_num, 34928])\n",
    "        # confのサイズはtorch.Size([batch_num, 183372])になる\n",
    "        loc = torch.cat([o.view(o.size(0), -1) for o in loc], 1)\n",
    "        conf = torch.cat([o.view(o.size(0), -1) for o in conf], 1)\n",
    "        \n",
    "        # さらにlocとconfの形を整える\n",
    "        # locのサイズは、torch.Size([batch_num, 8732, 4])\n",
    "        # confのサイズは、torch.Size([batch_num, 8732, 21])\n",
    "        loc = loc.view(loc.size(0), -1, 4)\n",
    "        conf = conf.view(conf.size(0), -1, self.num_classes)\n",
    "        # これで後段の処理につっこめるかたちになる。\n",
    "        \n",
    "        output = (loc, conf, self.dbox_list)\n",
    "        \n",
    "        if self.phase == \"inference\":\n",
    "            # Detectのforward\n",
    "            return self.detect(output[0], output[1], output[2].to(self.device))\n",
    "        else:\n",
    "            return output\n",
    "    \n",
    "    def _upsample_add(self, x, y):\n",
    "        '''Upsample and add two feature maps.\n",
    "        Args:\n",
    "          x: (Variable) top feature map to be upsampled.\n",
    "          y: (Variable) lateral feature map.\n",
    "        Returns:\n",
    "          (Variable) added feature map.\n",
    "        Note in PyTorch, when input size is odd, the upsampled feature map\n",
    "        with `F.upsample(..., scale_factor=2, mode='nearest')`\n",
    "        maybe not equal to the lateral feature map size.\n",
    "        e.g.\n",
    "        original input size: [N,_,15,15] ->\n",
    "        conv2d feature map size: [N,_,8,8] ->\n",
    "        upsampled feature map size: [N,_,16,16]\n",
    "        So we choose bilinear upsample which supports arbitrary output sizes.\n",
    "        '''\n",
    "        _,_,H,W = y.size()\n",
    "        return F.upsample(x, size=(H,W), mode='bilinear') + y"
   ]
  },
  {
   "cell_type": "code",
   "execution_count": 5,
   "metadata": {},
   "outputs": [
    {
     "name": "stdout",
     "output_type": "stream",
     "text": [
      "Loaded pretrained weights for efficientnet-b0\n",
      "layerc3: torch.Size([1, 40, 37, 37])\n",
      "layerc4: torch.Size([1, 80, 18, 18])\n",
      "layerc5: torch.Size([1, 320, 9, 9])\n",
      "torch.Size([1, 256, 37, 37])\n",
      "torch.Size([1, 256, 18, 18])\n",
      "torch.Size([1, 256, 9, 9])\n",
      "torch.Size([1, 256, 5, 5])\n",
      "torch.Size([1, 256, 3, 3])\n",
      "layer size: torch.Size([1, 256, 37, 37])\n",
      "layer size: torch.Size([1, 256, 18, 18])\n",
      "layer size: torch.Size([1, 256, 9, 9])\n",
      "layer size: torch.Size([1, 256, 5, 5])\n",
      "layer size: torch.Size([1, 256, 3, 3])\n"
     ]
    },
    {
     "name": "stderr",
     "output_type": "stream",
     "text": [
      "/home/ubuntu/anaconda3/envs/pytorch_p36/lib/python3.6/site-packages/torch/nn/functional.py:2457: UserWarning: nn.functional.upsample is deprecated. Use nn.functional.interpolate instead.\n",
      "  warnings.warn(\"nn.functional.upsample is deprecated. Use nn.functional.interpolate instead.\")\n",
      "/home/ubuntu/anaconda3/envs/pytorch_p36/lib/python3.6/site-packages/torch/nn/functional.py:2539: UserWarning: Default upsampling behavior when mode=bilinear is changed to align_corners=False since 0.4.0. Please specify align_corners=True if the old behavior is desired. See the documentation of nn.Upsample for details.\n",
      "  \"See the documentation of nn.Upsample for details.\".format(mode))\n"
     ]
    }
   ],
   "source": [
    "cfg = {\n",
    "        'num_classes': 21,  # 背景クラスを含めた合計クラス数\n",
    "        'input_size': 300,  # 画像の入力サイズ\n",
    "        'bbox_aspect_num': [4, 6, 6, 6, 4, 4],  # 出力するDBoxのアスペクト比の種類\n",
    "        'feature_maps': [37, 18, 9, 5, 3, 1],  # 各sourceの画像サイズ\n",
    "        'steps': [8, 16, 32, 64, 100, 300],  # DBOXの大きさを決める\n",
    "        'min_sizes': [30, 60, 111, 162, 213, 264],  # DBOXの大きさを決める\n",
    "        'max_sizes': [60, 111, 162, 213, 264, 315],  # DBOXの大きさを決める\n",
    "        'aspect_ratios': [[2], [2, 3], [2, 3], [2, 3], [2], [2]],\n",
    "    }\n",
    "back = EfficientDet(\"train\", cfg, verbose=True)\n",
    "x = torch.rand([1,3,300,300])\n",
    "out = back(x)"
   ]
  },
  {
   "cell_type": "markdown",
   "metadata": {},
   "source": [
    "# Set up MS-coco dataset"
   ]
  },
  {
   "cell_type": "code",
   "execution_count": 7,
   "metadata": {},
   "outputs": [],
   "source": [
    "from dataset.coco import COCODetection\n",
    "import torch.utils.data as data\n",
    "from utils.dataset import VOCDataset, COCODatasetTransform, make_datapath_list, Anno_xml2list, od_collate_fn\n",
    "\n",
    "batch_size = 2"
   ]
  },
  {
   "cell_type": "code",
   "execution_count": 8,
   "metadata": {},
   "outputs": [],
   "source": [
    "color_mean = (104, 117, 123)  # (BGR)の色の平均値\n",
    "input_size = 300  # 画像のinputサイズを300×300にする\n",
    "\n",
    "## DatasetTransformを適応\n",
    "transform = COCODatasetTransform(input_size, color_mean)"
   ]
  },
  {
   "cell_type": "code",
   "execution_count": 9,
   "metadata": {},
   "outputs": [
    {
     "name": "stdout",
     "output_type": "stream",
     "text": [
      "loading annotations into memory...\n",
      "Done (t=5.64s)\n",
      "creating index...\n",
      "index created!\n"
     ]
    }
   ],
   "source": [
    "dataset = COCODetection(\"../data/coco/\", image_set=\"val2014\", phase=\"train\", transform=transform)"
   ]
  },
  {
   "cell_type": "code",
   "execution_count": 10,
   "metadata": {},
   "outputs": [],
   "source": [
    "train_dataloader = data.DataLoader(\n",
    "    dataset, batch_size=batch_size, shuffle=True,  num_workers=8, pin_memory=True, collate_fn=od_collate_fn)"
   ]
  },
  {
   "cell_type": "code",
   "execution_count": 25,
   "metadata": {},
   "outputs": [
    {
     "name": "stdout",
     "output_type": "stream",
     "text": [
      "torch.Size([2, 3, 300, 300])\n",
      "2\n",
      "torch.Size([2, 5])\n"
     ]
    }
   ],
   "source": [
    "# 動作の確認\n",
    "batch_iterator = iter(train_dataloader)  # イタレータに変換\n",
    "images, targets = next(batch_iterator)  # 1番目の要素を取り出す\n",
    "print(images.size())  # torch.Size([4, 3, 300, 300])\n",
    "print(len(targets))\n",
    "print(targets[1].shape)  # ミニバッチのサイズのリスト、各要素は[n, 5]、nは物体数"
   ]
  },
  {
   "cell_type": "code",
   "execution_count": 26,
   "metadata": {},
   "outputs": [],
   "source": [
    "import numpy as np\n",
    "a = np.random.randn(100,100,3)\n",
    "np.mean(a,axis=(0,1))\n",
    "images = images.numpy()[0,:,:,:].transpose([1,2,0])"
   ]
  },
  {
   "cell_type": "code",
   "execution_count": 27,
   "metadata": {},
   "outputs": [
    {
     "name": "stderr",
     "output_type": "stream",
     "text": [
      "Clipping input data to the valid range for imshow with RGB data ([0..1] for floats or [0..255] for integers).\n"
     ]
    },
    {
     "data": {
      "image/png": "[encoded data removed]",
      "text/plain": [
       "<Figure size 432x288 with 1 Axes>"
      ]
     },
     "metadata": {},
     "output_type": "display_data"
    }
   ],
   "source": [
    "import matplotlib.pyplot as plt\n",
    "import cv2\n",
    "plt.imshow(images)   # pltはRGBで表示する.\n",
    "plt.show()"
   ]
  },
  {
   "cell_type": "code",
   "execution_count": null,
   "metadata": {},
   "outputs": [],
   "source": []
  },
  {
   "cell_type": "raw",
   "metadata": {},
   "source": []
  }
 ],
 "metadata": {
  "kernelspec": {
   "display_name": "Python 3",
   "language": "python",
   "name": "python3"
  },
  "language_info": {
   "codemirror_mode": {
    "name": "ipython",
    "version": 3
   },
   "file_extension": ".py",
   "mimetype": "text/x-python",
   "name": "python",
   "nbconvert_exporter": "python",
   "pygments_lexer": "ipython3",
   "version": "3.6.5"
  }
 },
 "nbformat": 4,
 "nbformat_minor": 2
}
